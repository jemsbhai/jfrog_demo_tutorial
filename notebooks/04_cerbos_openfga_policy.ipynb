{
 "cells": [
  {
   "cell_type": "markdown",
   "id": "39c96045",
   "metadata": {},
   "source": [
    "# Notebook 4 – Cerbos & OpenFGA Policies\n",
    "*Created 2025-05-08*"
   ]
  },
  {
   "cell_type": "markdown",
   "id": "632225cb",
   "metadata": {},
   "source": [
    "### Install SDKs"
   ]
  },
  {
   "cell_type": "code",
   "execution_count": null,
   "id": "92224706",
   "metadata": {},
   "outputs": [],
   "source": [
    "!pip -q install cerbos-sdk openfga-client langchain"
   ]
  },
  {
   "cell_type": "markdown",
   "id": "9a90f427",
   "metadata": {},
   "source": [
    "### Cerbos quick check"
   ]
  },
  {
   "cell_type": "code",
   "execution_count": null,
   "id": "34d228c9",
   "metadata": {},
   "outputs": [],
   "source": [
    "from cerbos.sdk.client import CerbosClient\n",
    "cc=CerbosClient('https://demo-pdp.cerbos.dev')\n",
    "print(cc.is_allowed({'id':'alice','roles':['clinician']},'read',{'kind':'clinical_note','id':'doc1'}))"
   ]
  },
  {
   "cell_type": "markdown",
   "id": "90d2f045",
   "metadata": {},
   "source": [
    "### OpenFGA quick check"
   ]
  },
  {
   "cell_type": "code",
   "execution_count": null,
   "id": "122e7084",
   "metadata": {},
   "outputs": [],
   "source": [
    "from openfga_client import OpenFgaClient, ClientConfiguration\n",
    "cfg=ClientConfiguration(api_scheme='https',api_port=443,api_host='playground.openfga.dev')\n",
    "fg=OpenFgaClient(configuration=cfg)\n",
    "print('Playground reachable:',fg)"
   ]
  },
  {
   "cell_type": "markdown",
   "id": "95d57c49",
   "metadata": {},
   "source": [
    "### Integrate with LangChain retriever (pseudo‑code)"
   ]
  },
  {
   "cell_type": "code",
   "execution_count": null,
   "id": "b4fa0be9",
   "metadata": {},
   "outputs": [],
   "source": [
    "# define cerbos_filter(docs,user) ..."
   ]
  }
 ],
 "metadata": {},
 "nbformat": 4,
 "nbformat_minor": 5
}
