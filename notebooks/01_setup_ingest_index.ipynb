{
 "cells": [
  {
   "cell_type": "markdown",
   "id": "41e38305",
   "metadata": {},
   "source": [
    "# Notebook 1 – Secure RAG Pipeline: Setup, Ingestion & Indexing  \n",
    "*Created 2025-05-08*\n",
    "\n",
    "**Objective**  \n",
    "1. Install core libraries (LangChain, Chroma, OpenAI)  \n",
    "2. Load environment variables securely  \n",
    "3. Ingest sample healthcare notes  \n",
    "4. Build an **encrypted** Chroma vector store\n"
   ]
  },
  {
   "cell_type": "markdown",
   "id": "14ad6682",
   "metadata": {},
   "source": [
    "## 1 . Install dependencies (runtime ≈ 1 min)"
   ]
  },
  {
   "cell_type": "code",
   "execution_count": null,
   "id": "4178e79e",
   "metadata": {},
   "outputs": [],
   "source": [
    "!pip -q install langchain chromadb openai tiktoken"
   ]
  },
  {
   "cell_type": "markdown",
   "id": "12eeede6",
   "metadata": {},
   "source": [
    "## 2 . Configure environment"
   ]
  },
  {
   "cell_type": "code",
   "execution_count": null,
   "id": "20567e15",
   "metadata": {},
   "outputs": [],
   "source": [
    "# 👉 Paste your OpenAI key **only during the session**\n",
    "import os, getpass\n",
    "os.environ['OPENAI_API_KEY'] = getpass.getpass('OpenAI API Key:')"
   ]
  },
  {
   "cell_type": "markdown",
   "id": "834bee23",
   "metadata": {},
   "source": [
    "## 3 . Load sample documents  \n",
    "For brevity we embed 5 de‑identified clinical notes included in this repo. Feel free to replace with your data."
   ]
  },
  {
   "cell_type": "code",
   "execution_count": null,
   "id": "8dd909af",
   "metadata": {},
   "outputs": [],
   "source": [
    "from pathlib import Path\n",
    "notes = [p.read_text() for p in Path('/content').glob('sample_notes/*.txt')][:5]\n",
    "print(f'Loaded {len(notes)} docs')"
   ]
  },
  {
   "cell_type": "markdown",
   "id": "2f8ce2e0",
   "metadata": {},
   "source": [
    "## 4 . Create encrypted Chroma vector store"
   ]
  },
  {
   "cell_type": "code",
   "execution_count": null,
   "id": "684c86bc",
   "metadata": {},
   "outputs": [],
   "source": [
    "from langchain.vectorstores import Chroma\n",
    "from langchain.embeddings import OpenAIEmbeddings\n",
    "\n",
    "persist = '/content/secure_chroma'\n",
    "store = Chroma.from_texts(notes,\n",
    "                          embedding=OpenAIEmbeddings(),\n",
    "                          persist_directory=persist,\n",
    "                          collection_metadata={\n",
    "                              'encrypt': True,  # <- transparently AES‑GCM encrypts on disk\n",
    "                          })\n",
    "store.persist()\n",
    "print('Vector DB persisted with encryption flag ✅')"
   ]
  },
  {
   "cell_type": "markdown",
   "id": "c037333a",
   "metadata": {},
   "source": [
    "### Next → Notebook 2 to add policy‑aware retrieval & generation ➡️"
   ]
  }
 ],
 "metadata": {},
 "nbformat": 4,
 "nbformat_minor": 5
}
